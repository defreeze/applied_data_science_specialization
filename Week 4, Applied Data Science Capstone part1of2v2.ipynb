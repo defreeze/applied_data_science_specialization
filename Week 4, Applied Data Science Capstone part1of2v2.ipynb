{
 "cells": [
  {
   "cell_type": "markdown",
   "metadata": {},
   "source": [
    "week 4: applied data science capstone part 1 of 2\n",
    "=================================================\n",
    "\n",
    "***Using foursquare api to predict the best location for a new Japanese restaurant in Groningen***\n",
    "\n",
    "**Author:** *Alex de Vries*\n",
    "\n",
    "### Background\n",
    "This report will discuss the possibilities of setting up a new Japanese restaurant in the Dutch city of Groningen. This is a student city of around 300.000 people. Because of the university there are students from all over the world. This is not completely represented by the variety of food places in the city. There are two Japanese resaurants that I personaly know of (before starting this analysis). We will find out how many there already are and what the best location would be if someone would want to start a new Japanese restaurant in Groningen. The insights resulting from this analysis could be used for a future business plan.\n",
    "\n",
    "### Problem\n",
    "The goal of this analysis is in the end give advise on what the best location for a new Japanese restaurant will be. Because of the limited knowledge of Dutch people regarding Japanese food, any places related to Japanese food will be considered in this analysis. We might even consider Korean food places as any new Japanese place would likely not want to be close to Korean places as it would detract customers. Chinese restaurants are well known and distinquisable for Dutch people so we can leave those out of the analysis.\n",
    "\n",
    "### Data\n",
    "This notebook is highly inspirated by the template given in the course. I will keep the idea of clustering the city by area and then plot heatmap to find better area.\n",
    "\n",
    "I will change some data:\n",
    "- Country: The Netherlands\n",
    "- City: Groningen\n",
    "- Goal: Open a Japanese restaurant/little shop\n",
    "- So, I will cross data from working days, and localisations.\n",
    "\n",
    "The following API will be used:\n",
    "- Foursquare API: to find restaurant/venues\n",
    "- Google API: reverse geolocalisation"
   ]
  },
  {
   "cell_type": "markdown",
   "metadata": {},
   "source": [
    "### Methodology\n"
   ]
  },
  {
   "cell_type": "code",
   "execution_count": 24,
   "metadata": {},
   "outputs": [
    {
     "name": "stdout",
     "output_type": "stream",
     "text": [
      "Requirement already satisfied: folium in /home/jupyterlab/conda/envs/python/lib/python3.6/site-packages (0.5.0)\n",
      "Requirement already satisfied: requests in /home/jupyterlab/conda/envs/python/lib/python3.6/site-packages (from folium) (2.25.1)\n",
      "Requirement already satisfied: six in /home/jupyterlab/conda/envs/python/lib/python3.6/site-packages (from folium) (1.15.0)\n",
      "Requirement already satisfied: branca in /home/jupyterlab/conda/envs/python/lib/python3.6/site-packages (from folium) (0.4.2)\n",
      "Requirement already satisfied: jinja2 in /home/jupyterlab/conda/envs/python/lib/python3.6/site-packages (from folium) (2.11.3)\n",
      "Requirement already satisfied: idna<3,>=2.5 in /home/jupyterlab/conda/envs/python/lib/python3.6/site-packages (from requests->folium) (2.10)\n",
      "Requirement already satisfied: urllib3<1.27,>=1.21.1 in /home/jupyterlab/conda/envs/python/lib/python3.6/site-packages (from requests->folium) (1.26.4)\n",
      "Requirement already satisfied: certifi>=2017.4.17 in /home/jupyterlab/conda/envs/python/lib/python3.6/site-packages (from requests->folium) (2020.12.5)\n",
      "Requirement already satisfied: chardet<5,>=3.0.2 in /home/jupyterlab/conda/envs/python/lib/python3.6/site-packages (from requests->folium) (4.0.0)\n",
      "Requirement already satisfied: MarkupSafe>=0.23 in /home/jupyterlab/conda/envs/python/lib/python3.6/site-packages (from jinja2->folium) (1.1.1)\n",
      "Requirement already satisfied: shapely in /home/jupyterlab/conda/envs/python/lib/python3.6/site-packages (1.7.1)\n",
      "Requirement already satisfied: pyproj in /home/jupyterlab/conda/envs/python/lib/python3.6/site-packages (1.9.6)\n",
      "importing completed\n"
     ]
    }
   ],
   "source": [
    "# This file contains all the ids for foursquare and google\n",
    "CLIENT_ID = \"UMAV1KOHI434GBVBGDRXLGTXU211YJLCRJ4PJKFZUFDXQV5J\"\n",
    "CLIENT_SECRET = \"GZXF3NDHNN2GBQTOYMO2TIWM2QQAW2WIL12CY5FLYGLSMDQT\"\n",
    "VERSION = \"20180605\"\n",
    "\n",
    "!pip install folium\n",
    "# Others imports:\n",
    "from IPython.display import Image\n",
    "import pickle\n",
    "import json\n",
    "import requests\n",
    "import folium\n",
    "import pandas as pd\n",
    "from pandas.io.json import json_normalize # tranform JSON file into a pandas dataframe\n",
    "\n",
    "from matplotlib import pyplot as plt\n",
    "!pip install shapely\n",
    "import shapely.geometry\n",
    "\n",
    "!pip install pyproj\n",
    "import pyproj\n",
    "\n",
    "import math\n",
    "\n",
    "import warnings\n",
    "warnings.simplefilter(\"ignore\")\n",
    "print('importing completed')\n",
    "\n",
    "%matplotlib inline"
   ]
  },
  {
   "cell_type": "markdown",
   "metadata": {},
   "source": [
    "### Results\n",
    "this will be added in part 2"
   ]
  },
  {
   "cell_type": "code",
   "execution_count": 17,
   "metadata": {},
   "outputs": [
    {
     "name": "stdout",
     "output_type": "stream",
     "text": [
      "Coordinates of Groningen: (53.219383, 6.566502)\n"
     ]
    }
   ],
   "source": [
    "groningen_latitude = 53.219383\n",
    "groningen_longitude = 6.566502\n",
    "groningen_coords = (groningen_latitude,groningen_longitude )\n",
    "radius = 500\n",
    "LIMIT = 500\n",
    "search_query = 'asian'\n",
    "\n",
    "url = 'https://api.foursquare.com/v2/venues/search?client_id={}&client_secret={}&ll={},{}&v={}&query={}&radius={}&limit={}'.format(\n",
    "    CLIENT_ID, \n",
    "    CLIENT_SECRET, \n",
    "    groningen_latitude, \n",
    "    groningen_longitude, \n",
    "    VERSION,\n",
    "    search_query, \n",
    "    radius, \n",
    "    LIMIT)\n",
    "\n",
    "\n",
    "#url = 'https://api.foursquare.com/v2/venues/explore?&client_id={}&client_secret={}&v={}&ll={},{}&radius={}&limit={}'.format(\n",
    "#    CLIENT_ID, \n",
    "#    CLIENT_SECRET, \n",
    "#    VERSION, \n",
    "    groningen_latitude, \n",
    "    groningen_longitude, \n",
    "    radius, \n",
    "    LIMIT)\n",
    "                                     \n",
    "print('Coordinates of Groningen: {}'.format(groningen_coords))"
   ]
  },
  {
   "cell_type": "code",
   "execution_count": 21,
   "metadata": {},
   "outputs": [
    {
     "ename": "AttributeError",
     "evalue": "'dict' object has no attribute 'head'",
     "output_type": "error",
     "traceback": [
      "\u001b[0;31m---------------------------------------------------------------------------\u001b[0m",
      "\u001b[0;31mAttributeError\u001b[0m                            Traceback (most recent call last)",
      "\u001b[0;32m<ipython-input-21-7255810a1bc2>\u001b[0m in \u001b[0;36m<module>\u001b[0;34m\u001b[0m\n\u001b[1;32m      1\u001b[0m \u001b[0mresults\u001b[0m \u001b[0;34m=\u001b[0m \u001b[0mrequests\u001b[0m\u001b[0;34m.\u001b[0m\u001b[0mget\u001b[0m\u001b[0;34m(\u001b[0m\u001b[0murl\u001b[0m\u001b[0;34m)\u001b[0m\u001b[0;34m.\u001b[0m\u001b[0mjson\u001b[0m\u001b[0;34m(\u001b[0m\u001b[0;34m)\u001b[0m\u001b[0;34m\u001b[0m\u001b[0;34m\u001b[0m\u001b[0m\n\u001b[0;32m----> 2\u001b[0;31m \u001b[0mresults\u001b[0m\u001b[0;34m.\u001b[0m\u001b[0mhead\u001b[0m\u001b[0;34m(\u001b[0m\u001b[0;34m)\u001b[0m\u001b[0;34m\u001b[0m\u001b[0;34m\u001b[0m\u001b[0m\n\u001b[0m",
      "\u001b[0;31mAttributeError\u001b[0m: 'dict' object has no attribute 'head'"
     ]
    }
   ],
   "source": [
    "results = requests.get(url).json()"
   ]
  },
  {
   "cell_type": "code",
   "execution_count": 25,
   "metadata": {},
   "outputs": [],
   "source": [
    "# function that extracts the category of the venue\n",
    "def get_category_type(row):\n",
    "    try:\n",
    "        categories_list = row['categories']\n",
    "    except:\n",
    "        categories_list = row['venue.categories']\n",
    "        \n",
    "    if len(categories_list) == 0:\n",
    "        return None\n",
    "    else:\n",
    "        return categories_list[0]['name']"
   ]
  },
  {
   "cell_type": "code",
   "execution_count": 28,
   "metadata": {},
   "outputs": [
    {
     "data": {
      "text/html": [
       "<div>\n",
       "<style scoped>\n",
       "    .dataframe tbody tr th:only-of-type {\n",
       "        vertical-align: middle;\n",
       "    }\n",
       "\n",
       "    .dataframe tbody tr th {\n",
       "        vertical-align: top;\n",
       "    }\n",
       "\n",
       "    .dataframe thead th {\n",
       "        text-align: right;\n",
       "    }\n",
       "</style>\n",
       "<table border=\"1\" class=\"dataframe\">\n",
       "  <thead>\n",
       "    <tr style=\"text-align: right;\">\n",
       "      <th></th>\n",
       "      <th>name</th>\n",
       "      <th>categories</th>\n",
       "      <th>lat</th>\n",
       "      <th>lng</th>\n",
       "    </tr>\n",
       "  </thead>\n",
       "  <tbody>\n",
       "    <tr>\n",
       "      <th>0</th>\n",
       "      <td>Pure Groningen</td>\n",
       "      <td>Frozen Yogurt Shop</td>\n",
       "      <td>53.217708</td>\n",
       "      <td>6.566397</td>\n",
       "    </tr>\n",
       "    <tr>\n",
       "      <th>1</th>\n",
       "      <td>Der Witz</td>\n",
       "      <td>Bar</td>\n",
       "      <td>53.218259</td>\n",
       "      <td>6.567054</td>\n",
       "    </tr>\n",
       "    <tr>\n",
       "      <th>2</th>\n",
       "      <td>Mr. Mofongo</td>\n",
       "      <td>Restaurant</td>\n",
       "      <td>53.219369</td>\n",
       "      <td>6.564100</td>\n",
       "    </tr>\n",
       "    <tr>\n",
       "      <th>3</th>\n",
       "      <td>Gustatio</td>\n",
       "      <td>Italian Restaurant</td>\n",
       "      <td>53.218200</td>\n",
       "      <td>6.568896</td>\n",
       "    </tr>\n",
       "    <tr>\n",
       "      <th>4</th>\n",
       "      <td>Cho Fah Eatthai</td>\n",
       "      <td>Thai Restaurant</td>\n",
       "      <td>53.217775</td>\n",
       "      <td>6.568035</td>\n",
       "    </tr>\n",
       "  </tbody>\n",
       "</table>\n",
       "</div>"
      ],
      "text/plain": [
       "              name          categories        lat       lng\n",
       "0   Pure Groningen  Frozen Yogurt Shop  53.217708  6.566397\n",
       "1         Der Witz                 Bar  53.218259  6.567054\n",
       "2      Mr. Mofongo          Restaurant  53.219369  6.564100\n",
       "3         Gustatio  Italian Restaurant  53.218200  6.568896\n",
       "4  Cho Fah Eatthai     Thai Restaurant  53.217775  6.568035"
      ]
     },
     "execution_count": 28,
     "metadata": {},
     "output_type": "execute_result"
    }
   ],
   "source": [
    "venues = results['response']['groups'][0]['items']  \n",
    "grunn_venues = json_normalize(venues) # flatten JSON\n",
    "\n",
    "# filter columns\n",
    "filtered_columns = ['venue.name', 'venue.categories', 'venue.location.lat', 'venue.location.lng']\n",
    "grunn_venues =grunn_venues.loc[:, filtered_columns]\n",
    "\n",
    "# filter the category for each row\n",
    "grunn_venues['venue.categories'] = grunn_venues.apply(get_category_type, axis=1)\n",
    "\n",
    "# clean columns\n",
    "grunn_venues.columns = [col.split(\".\")[-1] for col in grunn_venues.columns]\n",
    "grunn_venues.head()"
   ]
  },
  {
   "cell_type": "code",
   "execution_count": 27,
   "metadata": {},
   "outputs": [
    {
     "name": "stdout",
     "output_type": "stream",
     "text": [
      "77 venues were returned by Foursquare.\n"
     ]
    }
   ],
   "source": [
    "print('{} venues were returned by Foursquare.'.format(nearby_venues.shape[0]))"
   ]
  },
  {
   "cell_type": "code",
   "execution_count": 34,
   "metadata": {},
   "outputs": [
    {
     "data": {
      "text/plain": [
       "0       Pure Groningen\n",
       "1             Der Witz\n",
       "2          Mr. Mofongo\n",
       "3             Gustatio\n",
       "4      Cho Fah Eatthai\n",
       "            ...       \n",
       "72    Zevende Hemel De\n",
       "73       Goud Heerlijk\n",
       "74          Taco Mundo\n",
       "75    University Hotel\n",
       "76         Copy - Copy\n",
       "Name: name, Length: 77, dtype: object"
      ]
     },
     "execution_count": 34,
     "metadata": {},
     "output_type": "execute_result"
    }
   ],
   "source": [
    "grunn_venues.name"
   ]
  },
  {
   "cell_type": "markdown",
   "metadata": {},
   "source": [
    "\n",
    "### Discussion\n",
    "This will be added in part 2\n",
    "\n",
    "### Conclusion\n",
    "This will be added in part 2"
   ]
  }
 ],
 "metadata": {
  "kernelspec": {
   "display_name": "Python",
   "language": "python",
   "name": "conda-env-python-py"
  },
  "language_info": {
   "codemirror_mode": {
    "name": "ipython",
    "version": 3
   },
   "file_extension": ".py",
   "mimetype": "text/x-python",
   "name": "python",
   "nbconvert_exporter": "python",
   "pygments_lexer": "ipython3",
   "version": "3.6.13"
  }
 },
 "nbformat": 4,
 "nbformat_minor": 4
}
