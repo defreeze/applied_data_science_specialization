{
 "cells": [
  {
   "cell_type": "markdown",
   "metadata": {},
   "source": [
    "week 4: applied data science capston part 1 of 2\n",
    "==============\n",
    "\n",
    "***Using foursquare api to predict the best location for a new Japanese restaurant in Groningen***\n",
    "\n",
    "**Author:** *Alex de Vries*\n",
    "\n",
    "### Background\n",
    "This report will discuss the possibilities of setting up a new Japanese restaurant in the Dutch city of Groningen. This is a student city of around 300.000 people. Because of the university there are students from all over the world. This is not completely represented by the variety of food places in the city. There are two Japanese resaurants that I personaly know of (before starting this analysis). We will find out how many there already are and what the best location would be if someone would want to start a new Japanese restaurant in Groningen. The insights resulting from this analysis could be used for a future business plan.\n",
    "\n",
    "### Problem\n",
    "The goal of this analysis is in the end give advise on what the best location for a new Japanese restaurant will be. Because of the limited knowledge of Dutch people regarding Japanese food, any places related to Japanese food will be considered in this analysis. We might even consider Korean food places as any new Japanese place would likely not want to be close to Korean places as it would detract customers. Chinese restaurants are well known and distinquisable for Dutch people so we can leave those out of the analysis.\n",
    "\n",
    "### Data\n",
    "This notebook is highly inspirated by the template given in the course. I will keep the idea of clustering the city by area and then plot heatmap to find better area.\n",
    "\n",
    "I will change some data:\n",
    "- Country: The Netherlands\n",
    "- City: Groningen\n",
    "- Goal: Open a Japanese restaurant/little shop\n",
    "- So, I will cross data from working days, and localisations.\n",
    "\n",
    "The following API will be used:\n",
    "- Foursquare API: to find restaurant/venues\n",
    "- Google API: reverse geolocalisation"
   ]
  },
  {
   "cell_type": "markdown",
   "metadata": {},
   "source": [
    "### Methodology\n"
   ]
  },
  {
   "cell_type": "code",
   "execution_count": 3,
   "metadata": {},
   "outputs": [
    {
     "name": "stdout",
     "output_type": "stream",
     "text": [
      "Requirement already satisfied: folium in /home/jupyterlab/conda/envs/python/lib/python3.6/site-packages (0.5.0)\n",
      "Requirement already satisfied: requests in /home/jupyterlab/conda/envs/python/lib/python3.6/site-packages (from folium) (2.25.0)\n",
      "Requirement already satisfied: six in /home/jupyterlab/conda/envs/python/lib/python3.6/site-packages (from folium) (1.15.0)\n",
      "Requirement already satisfied: branca in /home/jupyterlab/conda/envs/python/lib/python3.6/site-packages (from folium) (0.4.1)\n",
      "Requirement already satisfied: jinja2 in /home/jupyterlab/conda/envs/python/lib/python3.6/site-packages (from folium) (2.11.2)\n",
      "Requirement already satisfied: chardet<4,>=3.0.2 in /home/jupyterlab/conda/envs/python/lib/python3.6/site-packages (from requests->folium) (3.0.4)\n",
      "Requirement already satisfied: urllib3<1.27,>=1.21.1 in /home/jupyterlab/conda/envs/python/lib/python3.6/site-packages (from requests->folium) (1.25.11)\n",
      "Requirement already satisfied: certifi>=2017.4.17 in /home/jupyterlab/conda/envs/python/lib/python3.6/site-packages (from requests->folium) (2020.12.5)\n",
      "Requirement already satisfied: idna<3,>=2.5 in /home/jupyterlab/conda/envs/python/lib/python3.6/site-packages (from requests->folium) (2.10)\n",
      "Requirement already satisfied: MarkupSafe>=0.23 in /home/jupyterlab/conda/envs/python/lib/python3.6/site-packages (from jinja2->folium) (1.1.1)\n",
      "Requirement already satisfied: shapely in /home/jupyterlab/conda/envs/python/lib/python3.6/site-packages (1.7.1)\n",
      "Requirement already satisfied: pyproj in /home/jupyterlab/conda/envs/python/lib/python3.6/site-packages (1.9.6)\n",
      "importing completed\n"
     ]
    }
   ],
   "source": [
    "# this will be added in part 2\n",
    "\n",
    "# This file contains all my ids for foursquare and google\n",
    "CLIENT_ID = \"secret\"\n",
    "CLIENT_SECRET = \"secret\"\n",
    "GOOGLE_API_KEY = \"secret\"\n",
    "\n",
    "!pip install folium\n",
    "# Others imports:\n",
    "from IPython.display import Image\n",
    "import pickle\n",
    "import json\n",
    "import requests\n",
    "import folium\n",
    "import pandas as pd\n",
    "\n",
    "!pip install shapely\n",
    "#import shapely.geometry\n",
    "\n",
    "!pip install pyproj\n",
    "import pyproj\n",
    "\n",
    "import math\n",
    "from matplotlib import pyplot as plt\n",
    "import warnings\n",
    "warnings.simplefilter(\"ignore\")\n",
    "print('importing completed')\n",
    "\n",
    "%matplotlib inline"
   ]
  },
  {
   "cell_type": "markdown",
   "metadata": {},
   "source": [
    "### Results\n",
    "this will be added in part 2\n",
    "\n",
    "### Discussion\n",
    "This will be added in part 2\n",
    "\n",
    "### Conclusion\n",
    "This will be added in part 2"
   ]
  },
  {
   "cell_type": "code",
   "execution_count": null,
   "metadata": {},
   "outputs": [],
   "source": []
  }
 ],
 "metadata": {
  "kernelspec": {
   "display_name": "Python",
   "language": "python",
   "name": "conda-env-python-py"
  },
  "language_info": {
   "codemirror_mode": {
    "name": "ipython",
    "version": 3
   },
   "file_extension": ".py",
   "mimetype": "text/x-python",
   "name": "python",
   "nbconvert_exporter": "python",
   "pygments_lexer": "ipython3",
   "version": "3.6.12"
  }
 },
 "nbformat": 4,
 "nbformat_minor": 4
}
